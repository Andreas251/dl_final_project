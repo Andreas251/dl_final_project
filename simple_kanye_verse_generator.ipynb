{
 "cells": [
  {
   "cell_type": "code",
   "execution_count": 1,
   "metadata": {},
   "outputs": [
    {
     "name": "stderr",
     "output_type": "stream",
     "text": [
      "Fetching checkpoint: 1.05Mit [00:00, 350Mit/s]                                                      \n",
      "Fetching encoder.json: 1.05Mit [00:01, 842kit/s]                                                    \n",
      "Fetching hparams.json: 1.05Mit [00:00, 490Mit/s]                                                    \n",
      "Fetching model.ckpt.data-00000-of-00001: 1.42Git [05:22, 4.40Mit/s]                                 \n",
      "Fetching model.ckpt.index: 1.05Mit [00:00, 387Mit/s]                                                \n",
      "Fetching model.ckpt.meta: 1.05Mit [00:01, 858kit/s]                                                 \n",
      "Fetching vocab.bpe: 1.05Mit [00:00, 1.12Mit/s]                                                      \n"
     ]
    }
   ],
   "source": [
    "import gpt_2_simple as gpt2\n",
    "\n",
    "# parameter_size = \"124M\"\n",
    "parameter_size = \"355M\"\n",
    "\n",
    "gpt2.download_gpt2(model_name=parameter_size)\n",
    "\n",
    "file_name = \"data/kanye_verses_full.txt\"\n",
    "run_name = 'fine_tuning_run_1'\n",
    "model_name = parameter_size"
   ]
  },
  {
   "cell_type": "code",
   "execution_count": 2,
   "metadata": {},
   "outputs": [
    {
     "name": "stdout",
     "output_type": "stream",
     "text": [
      "For larger models, the recommended finetune() parameters are:\n",
      "\tuse_memory_saving_gradients = True\n",
      "\tonly_train_transformer_layers = True\n",
      "\taccumulate_gradients = 1\n",
      "\n",
      "Loading checkpoint models\\355M\\model.ckpt\n",
      "INFO:tensorflow:Restoring parameters from models\\355M\\model.ckpt\n",
      "Loading dataset...\n"
     ]
    },
    {
     "name": "stderr",
     "output_type": "stream",
     "text": [
      "100%|██████████| 1/1 [00:00<00:00,  1.06it/s]\n"
     ]
    },
    {
     "name": "stdout",
     "output_type": "stream",
     "text": [
      "dataset has 72708 tokens\n",
      "Training...\n",
      "[1 | 346.60] loss=3.96 avg=3.96\n",
      "[2 | 706.21] loss=3.91 avg=3.93\n",
      "[3 | 1014.29] loss=3.80 avg=3.89\n",
      "[4 | 1290.05] loss=3.81 avg=3.87\n",
      "[5 | 1573.45] loss=3.57 avg=3.81\n",
      "[6 | 1806.34] loss=3.72 avg=3.79\n",
      "[7 | 2063.12] loss=3.72 avg=3.78\n",
      "[8 | 2331.56] loss=3.53 avg=3.75\n",
      "[9 | 2580.41] loss=3.68 avg=3.74\n",
      "[10 | 2845.58] loss=3.57 avg=3.72\n",
      "Saving checkpoint\\run1\\model-10\n"
     ]
    }
   ],
   "source": [
    "sess = gpt2.start_tf_sess()\n",
    "\n",
    "gpt2.finetune(sess,\n",
    "              file_name,\n",
    "              model_name=model_name,\n",
    "              steps=10, # Should be way higher\n",
    "              print_every=1,\n",
    "              sample_every=50,\n",
    "              save_every=10)"
   ]
  },
  {
   "cell_type": "code",
   "execution_count": 3,
   "metadata": {},
   "outputs": [
    {
     "name": "stdout",
     "output_type": "stream",
     "text": [
      "Coke on her black skin made it stripe like a zebra\n",
      "And I'm like, \"Oh, that's really racist\"\n",
      "And she's like, \"You're a racist bitch\"\n",
      "And I'm like, \"No, I'm not\"\n",
      "But I was like \"I'm from the South\"\n",
      "And she was like \"You really need to go back to Chicago\"\n",
      "And I'm like, \"Yeah, I'm from the South\"\n",
      "And she was like, \"You really need to go back to Chicago\"\n",
      "And\n",
      "====================\n",
      "Coke on her black skin made it stripe like a zebra\n",
      "And she was on the radio, say, \"My name is Kadeo, I'm a rapper\"\n",
      "And I was on the radio, say, \"My name is Kadeo, I'm a rapper\"\n",
      "And I was on the radio, say, \"My name is Kadeo, I'm a rapper\"\n",
      "I'll still be up here, saying \"Makin' money with a nigga on the radio\"\n",
      "And I'm on the radio, \"\n",
      "====================\n",
      "Coke on her black skin made it stripe like a zebra.\n",
      "\n",
      "And then I was like, 'Oh, you, you, you, you, you, you, you, you, you, you, you'\n",
      "And then I was like, 'Oh, you, you, you, you, you, you, you\n",
      "You, you, you, you, you, you, you, you,'\n",
      "You don't know what you just did but that's no problem\n",
      "I'm just saying, 'You like, you know\n",
      "====================\n",
      "Coke on her black skin made it stripe like a zebra\n",
      "She had a big smile and she would say, \"I'm going to make you a new song\"\n",
      "And I'm doing my job, you know what you did, you know what you did\n",
      "But I'm not doing it for the money\n",
      "I'm not doing it for the money, I'm going for the glory\n",
      "I'm not doing it for the money, I'm going for the glory\n",
      "I'm not doing it for the money, I'm going for the glory\n",
      "\n",
      "====================\n",
      "Coke on her black skin made it stripe like a zebra\n",
      "She was on the cover of the whole thing\n",
      "She had a hat that looked like a kilt\n",
      "She was on the cover of all the magazines and the magazines\n",
      "And she was on the cover of everything\n",
      "And she had a hat that looked like a kilt\n",
      "She was on the cover of the whole thing\n",
      "She had a hat that looked like a kilt\n",
      "She was on the cover of all the magazines and the magazines\n",
      "She was on the cover of everything\n",
      "She had\n",
      "====================\n",
      "Coke on her black skin made it stripe like a zebra\n",
      "I heard she was talking to the boy in the back\n",
      "And she asked him why he did it\n",
      "Then he said, 'You know, you never know what you've got\n",
      "I'm a drug addict, I'm addicted to it\n",
      "We just don't know, I'm addicted to it\n",
      "My life seems to change so fast\n",
      "I know that I'm not the only one\n",
      "I feel like I'm the only one\n",
      "I'm the only one\n",
      "Oh my God, oh\n",
      "====================\n",
      "Coke on her black skin made it stripe like a zebra, and now she's the blackest lady in America,\" he said. The last time I saw her, she was in a white dress, and you can't help but see that she was wearing a white dress:\n",
      "\"You know, I'm out of my mind,\" she said.\n",
      "\"It's so crazy that she's out of her mind, like, \"Hey, I'm from the West Coast, I'm in the West Coast, I'm out of my mind.\" It\n",
      "====================\n",
      "Coke on her black skin made it stripe like a zebra,\" she writes in her song \"Love on the Brain.\" \"She's got the best eyes in the world, she's got the best ass on the planet, she's the best, and I'm the best.\"\n",
      "\n",
      "She says it's \"The Biggest Lie\"\n",
      "And that's not a joke\n",
      "I'm a Big Deal\n",
      "If you don't believe in me\n",
      "Then I'm the biggest liar in the world\n",
      "You know that's a lie, don't you?\n",
      "\n",
      "====================\n",
      "Coke on her black skin made it stripe like a zebra\n",
      "I'mma keep that shit, that's my favorite\n",
      "I love that I get to be a bitch and be a star\n",
      "Now my favorite rapper is up in the air, I will be the judge\n",
      "I'mma make it so she can't walk into my show and say, \"What you doing?\"\n",
      "Now I'm just trying to make her get her ass up\n",
      "I'm just tryna make her like me\n",
      "I'm just trying to make her like me\n",
      "And I\n",
      "====================\n",
      "Coke on her black skin made it stripe like a zebra\n",
      "I know it's been a while, baby\n",
      "We got a girl on my mind, she'll be fine\n",
      "I know you want to do it for the good of the game, but I'ma wait\n",
      "I know we have a lot to talk about\n",
      "But it's hard to not break up the party\n",
      "I know you're not just trying to be a hit\n",
      "You're trying to be a hit\n",
      "You know what's the last thing you want? You want to make us\n",
      "====================\n"
     ]
    }
   ],
   "source": [
    "input_prompt = \"Coke on her black skin made it stripe like a zebra\"\n",
    "gpt2.generate(sess, temperature=.7, length=100, prefix=input_prompt, top_k=40, nsamples=10)"
   ]
  }
 ],
 "metadata": {
  "kernelspec": {
   "display_name": "Python 3.7.4 ('base')",
   "language": "python",
   "name": "python3"
  },
  "language_info": {
   "codemirror_mode": {
    "name": "ipython",
    "version": 3
   },
   "file_extension": ".py",
   "mimetype": "text/x-python",
   "name": "python",
   "nbconvert_exporter": "python",
   "pygments_lexer": "ipython3",
   "version": "3.7.4"
  },
  "orig_nbformat": 4,
  "vscode": {
   "interpreter": {
    "hash": "05c4c729e88282d67eca00fe45a6137539b4020d6694da1fe52091cd432aba7f"
   }
  }
 },
 "nbformat": 4,
 "nbformat_minor": 2
}
